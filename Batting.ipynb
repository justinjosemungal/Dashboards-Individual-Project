{
 "cells": [
  {
   "cell_type": "code",
   "execution_count": null,
   "metadata": {
    "collapsed": true
   },
   "outputs": [],
   "source": [
    "import pandas as pd\n",
    "import os"
   ]
  },
  {
   "cell_type": "code",
   "execution_count": null,
   "metadata": {
    "collapsed": true
   },
   "outputs": [],
   "source": [
    "years = range(2006,2017)\n",
    "writer = pd.ExcelWriter('batting.xlsx', engine = 'xlsxwriter')"
   ]
  },
  {
   "cell_type": "code",
   "execution_count": null,
   "metadata": {
    "collapsed": true
   },
   "outputs": [],
   "source": [
    "old_batting = pd.read_csv('League Batting 2005.csv')\n",
    "old_batting = pd.DataFrame(old_batting)\n",
    "del old_batting['url']\n",
    "del old_batting['Name_link']\n",
    "old_batting.columns = ['NAME', 'ID', 'TEAM', 'POS', 'G', 'AB', 'R', 'H', '2B', '3B', 'HR', 'RBI', 'TB', 'BB', 'SO', 'SB', 'CS', 'OBP', 'SLG', 'AVG', 'OPS']\n",
    "old_batting['YEAR'] = [2005] * old_batting.shape[0]\n",
    "\n",
    "for yr in years:\n",
    "    new_batting = pd.read_csv('League Batting %d.csv' % yr)\n",
    "    new_batting = pd.DataFrame(new_batting)\n",
    "    del new_batting['url']\n",
    "    del new_batting['Name_link']\n",
    "    new_batting.columns = ['NAME', 'ID', 'TEAM', 'POS', 'G', 'AB', 'R', 'H', '2B', '3B', 'HR', 'RBI', 'TB', 'BB', 'SO', 'SB', 'CS', 'OBP', 'SLG', 'AVG', 'OPS']\n",
    "    new_batting['YEAR'] = [yr] * new_batting.shape[0]\n",
    "    old_batting = pd.concat([old_batting, new_batting])\n",
    "    \n",
    "old_batting.to_excel(writer, sheet_name = 'League', index = False)\n",
    "\n",
    "\n"
   ]
  },
  {
   "cell_type": "code",
   "execution_count": null,
   "metadata": {
    "collapsed": true
   },
   "outputs": [],
   "source": [
    "old_batting = pd.read_excel('Individual Batting 2005.xlsx')\n",
    "old_batting = pd.DataFrame(old_batting)\n",
    "old_batting['TEAM'] = ['SJ'] * old_batting.shape[0]\n",
    "old_batting.columns = ['NAME', 'POS', 'G', 'AB', 'R', 'H', '2B', '3B', 'HR', 'RBI', 'TB', 'BB', 'SO', 'SB', 'CS', 'OBP', 'SLG', 'AVG', 'OPS', 'E', 'TEAM']\n",
    "old_batting['YEAR'] = [2005] * old_batting.shape[0]\n",
    "\n",
    "for yr in years:\n",
    "    new_batting = pd.read_excel('Individual Batting %d.xlsx' % yr)\n",
    "    new_batting = pd.DataFrame(new_batting)\n",
    "    new_batting['TEAM'] = ['SJ'] * new_batting.shape[0]\n",
    "    new_batting.columns = ['NAME', 'POS', 'G', 'AB', 'R', 'H', '2B', '3B', 'HR', 'RBI', 'TB', 'BB', 'SO', 'SB', 'CS', 'OBP', 'SLG', 'AVG', 'OPS', 'E', 'TEAM']\n",
    "    new_batting['YEAR'] = [yr] * new_batting.shape[0]\n",
    "    old_batting = pd.concat([old_batting, new_batting])\n",
    "    \n",
    "old_batting.to_excel(writer, sheet_name = 'Individual', index = False)"
   ]
  },
  {
   "cell_type": "code",
   "execution_count": null,
   "metadata": {
    "collapsed": true
   },
   "outputs": [],
   "source": [
    "old_batting = pd.read_csv('Team Batting 2005.csv')\n",
    "old_batting = pd.DataFrame(old_batting)\n",
    "old_batting.columns = ['URL', 'TEAM', 'TEAM_LINK', 'LINK', 'G', 'AB', 'R', 'H', '2B', '3B', 'HR', 'RBI', 'TB', 'BB', 'SO', 'SB', 'CS', 'OBP', 'SLG', 'AVG', 'OPS']\n",
    "del old_batting['URL']\n",
    "del old_batting['TEAM_LINK']\n",
    "del old_batting['LINK']\n",
    "old_batting['YEAR'] = [2005] * old_batting.shape[0]\n",
    "\n",
    "for yr in years:\n",
    "    new_batting = pd.read_csv('Team Batting %d.csv' % yr)\n",
    "    new_batting = pd.DataFrame(new_batting)\n",
    "    if(new_batting.shape[1] != 21):\n",
    "        new_batting.columns = ['URL', 'TEAM', 'TEAM_LINK', 'LINK', 'AB', 'R', 'H', '2B', '3B', 'HR', 'RBI', 'TB', 'BB', 'SO', 'SB', 'CS', 'OBP', 'SLG', 'AVG', 'OPS']\n",
    "        new_batting['G'] = [140] * new_batting.shape[0]    \n",
    "    else:\n",
    "        new_batting.columns = ['URL', 'TEAM', 'TEAM_LINK', 'LINK', 'G', 'AB', 'R', 'H', '2B', '3B', 'HR', 'RBI', 'TB', 'BB', 'SO', 'SB', 'CS', 'OBP', 'SLG', 'AVG', 'OPS']\n",
    "    del new_batting['URL']\n",
    "    del new_batting['TEAM_LINK']\n",
    "    del new_batting['LINK']\n",
    "    new_batting['YEAR'] = [yr] * new_batting.shape[0]\n",
    "    old_batting = pd.concat([old_batting, new_batting])\n",
    "\n",
    "old_batting.to_excel(writer, sheet_name = 'Team', index = False)"
   ]
  },
  {
   "cell_type": "code",
   "execution_count": null,
   "metadata": {
    "collapsed": true
   },
   "outputs": [],
   "source": [
    "writer.save()"
   ]
  },
  {
   "cell_type": "code",
   "execution_count": null,
   "metadata": {
    "collapsed": true
   },
   "outputs": [],
   "source": []
  }
 ],
 "metadata": {
  "kernelspec": {
   "display_name": "Python 3",
   "language": "python",
   "name": "python3"
  },
  "language_info": {
   "codemirror_mode": {
    "name": "ipython",
    "version": 3
   },
   "file_extension": ".py",
   "mimetype": "text/x-python",
   "name": "python",
   "nbconvert_exporter": "python",
   "pygments_lexer": "ipython3",
   "version": "3.6.1"
  }
 },
 "nbformat": 4,
 "nbformat_minor": 2
}
